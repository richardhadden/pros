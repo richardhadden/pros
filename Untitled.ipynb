{
 "cells": [
  {
   "cell_type": "code",
   "execution_count": 99,
   "id": "83a7502b",
   "metadata": {},
   "outputs": [],
   "source": [
    "import pros.django_initializer"
   ]
  },
  {
   "cell_type": "code",
   "execution_count": 2,
   "id": "e6e62a1a",
   "metadata": {},
   "outputs": [],
   "source": [
    "from test_app.models import Person, Factoid"
   ]
  },
  {
   "cell_type": "code",
   "execution_count": 5,
   "id": "4a2e56b3",
   "metadata": {},
   "outputs": [
    {
     "data": {
      "text/plain": [
       "(('has_factoid_about',\n",
       "  <neomodel.relationship_manager.RelationshipDefinition at 0x10c82ece0>),)"
      ]
     },
     "execution_count": 5,
     "metadata": {},
     "output_type": "execute_result"
    }
   ],
   "source": [
    "Person.__all_relationships__"
   ]
  },
  {
   "cell_type": "code",
   "execution_count": 3,
   "id": "c34134f2",
   "metadata": {},
   "outputs": [
    {
     "data": {
      "text/plain": [
       "<Person: {'uid': 'c4503b42a23d47b49a36a09f27e3749b', 'real_type': 'person', 'label': 'Arnold Lane  ', 'id': 0}>"
      ]
     },
     "execution_count": 3,
     "metadata": {},
     "output_type": "execute_result"
    }
   ],
   "source": [
    "pers = Person.nodes.first()\n",
    "pers"
   ]
  },
  {
   "cell_type": "code",
   "execution_count": 4,
   "id": "7b952164",
   "metadata": {},
   "outputs": [
    {
     "data": {
      "text/plain": [
       "[[<Relationship id=78 nodes=(<Node id=78 labels=frozenset({'Letter', 'Source', 'ProsNode'}) properties={'uid': '0a58c2d180a14e639fa5b4eb497d713f', 'real_type': 'letter', 'label': 'Bullshit Letter'}>, <Node id=0 labels=frozenset() properties={}>) type='HAS_SENDER' properties={}>,\n",
       "  <Node id=78 labels=frozenset({'Letter', 'Source', 'ProsNode'}) properties={'uid': '0a58c2d180a14e639fa5b4eb497d713f', 'real_type': 'letter', 'label': 'Bullshit Letter'}>],\n",
       " [<Relationship id=69 nodes=(<Node id=72 labels=frozenset({'Factoid', 'Event', 'ProsNode'}) properties={'uid': '33a5f5d100794d97a0b1655e619549bb', 'real_type': 'event', 'label': 'Clapathon'}>, <Node id=0 labels=frozenset() properties={}>) type='IS_ABOUT_PERSON' properties={}>,\n",
       "  <Node id=72 labels=frozenset({'Factoid', 'Event', 'ProsNode'}) properties={'uid': '33a5f5d100794d97a0b1655e619549bb', 'real_type': 'event', 'label': 'Clapathon'}>],\n",
       " [<Relationship id=42 nodes=(<Node id=36 labels=frozenset({'Factoid', 'Dance', 'Event', 'ProsNode'}) properties={'uid': 'a80f38336b264f238c980885a8ea19f6', 'real_type': 'dance', 'text': 'Has a mighty whirl', 'label': 'A Mighty Whirl'}>, <Node id=0 labels=frozenset() properties={}>) type='IS_ABOUT_PERSON' properties={}>,\n",
       "  <Node id=36 labels=frozenset({'Factoid', 'Dance', 'Event', 'ProsNode'}) properties={'uid': 'a80f38336b264f238c980885a8ea19f6', 'real_type': 'dance', 'text': 'Has a mighty whirl', 'label': 'A Mighty Whirl'}>],\n",
       " [<Relationship id=34 nodes=(<Node id=31 labels=frozenset({'Factoid', 'Dance', 'Event', 'ProsNode'}) properties={'uid': '666f7cfd1d9c4947adf93587c4c2d4bf', 'real_type': 'dance', 'label': 'Shindig', 'text': 'At the right shindig, attended by Alec Douglas Home, he danced with arnold lane '}>, <Node id=0 labels=frozenset() properties={}>) type='HAS_PRIMARY_DANCE_PARTNER' properties={}>,\n",
       "  <Node id=31 labels=frozenset({'Factoid', 'Dance', 'Event', 'ProsNode'}) properties={'uid': '666f7cfd1d9c4947adf93587c4c2d4bf', 'real_type': 'dance', 'label': 'Shindig', 'text': 'At the right shindig, attended by Alec Douglas Home, he danced with arnold lane '}>],\n",
       " [<Relationship id=16 nodes=(<Node id=22 labels=frozenset({'InterpersonalRelation', 'Factoid', 'ParentalRelation', 'ProsNode'}) properties={'uid': 'dbc7d1bc649a4d749056cb46567ba952', 'real_type': 'parentalrelation', 'label': 'mother'}>, <Node id=0 labels=frozenset() properties={}>) type='IS_ABOUT_PERSON' properties={}>,\n",
       "  <Node id=22 labels=frozenset({'InterpersonalRelation', 'Factoid', 'ParentalRelation', 'ProsNode'}) properties={'uid': 'dbc7d1bc649a4d749056cb46567ba952', 'real_type': 'parentalrelation', 'label': 'mother'}>]]"
      ]
     },
     "execution_count": 4,
     "metadata": {},
     "output_type": "execute_result"
    }
   ],
   "source": [
    "\n",
    "pers.all_related()\n"
   ]
  },
  {
   "cell_type": "code",
   "execution_count": 24,
   "id": "c48c921f",
   "metadata": {},
   "outputs": [],
   "source": [
    "from pypher import Pypher, __\n",
    "from neomodel import db\n"
   ]
  },
  {
   "cell_type": "code",
   "execution_count": 104,
   "id": "0959d7b0",
   "metadata": {},
   "outputs": [
    {
     "name": "stdout",
     "output_type": "stream",
     "text": [
      "MATCH (s:`Person`) WHERE s.`label` =~ $NEO_c6920_0 OR s.`other` =~ $NEO_c6920_0 RETURN distinct(s)\n",
      "[[<Node id=27 labels=frozenset({'Entity', 'ProsNode', 'Person'}) properties={'uid': '71c913e61cfd47be8b7fe0d05220bbc5', 'real_type': 'person', 'label': 'Toby Jones'}>]]\n"
     ]
    }
   ],
   "source": [
    "filter = \"by\"\n",
    "\n",
    "def icontains(node, property):\n",
    "    return lambda value: getattr(__, node).property(property).operator(\"=~\", f\"(?i).*{value}.*\")\n",
    "\n",
    "x = icontains(\"s\", \"label\")(filter)\n",
    "x = x.OR(icontains(\"s\", \"other\")(filter))\n",
    "\n",
    "\n",
    "q = Pypher()\n",
    "q.Match.node('s', labels=\"Person\")\n",
    "q.WHERE(x)\n",
    "q.RETURN(__.DISTINCT(__.s))\n",
    "\n",
    "\n",
    "print(str(q))\n",
    "\n",
    "\n",
    "results, meta = db.cypher_query(str(q), q.bound_params)\n",
    "print(results)\n"
   ]
  },
  {
   "cell_type": "code",
   "execution_count": 8,
   "id": "a69b13e8",
   "metadata": {},
   "outputs": [
    {
     "data": {
      "text/plain": [
       "'MATCH (s:`Person`)-[p]-(o) WHERE s.`uid` = $NEO_d01a1_0 RETURN s, p, o'"
      ]
     },
     "execution_count": 8,
     "metadata": {},
     "output_type": "execute_result"
    }
   ],
   "source": [
    "q = Pypher()\n",
    "q.Match.node('s', labels=\"Person\").rel('p').node(\"o\")\n",
    "q.WHERE.s.property(\"uid\") == 123\n",
    "q.RETURN(__.s, __.p, __.o)\n",
    "\n",
    "str(q)"
   ]
  },
  {
   "cell_type": "code",
   "execution_count": 23,
   "id": "fa139a2b",
   "metadata": {},
   "outputs": [],
   "source": [
    "\n",
    "from neomodel import db\n"
   ]
  },
  {
   "cell_type": "code",
   "execution_count": 10,
   "id": "c82dbd40",
   "metadata": {},
   "outputs": [
    {
     "data": {
      "text/plain": [
       "[[<Node id=0 labels=frozenset({'Entity', 'Person', 'ProsNode'}) properties={'uid': 'c4503b42a23d47b49a36a09f27e3749b', 'real_type': 'person', 'label': 'Arnold Lane  '}>,\n",
       "  <Relationship id=78 nodes=(<Node id=78 labels=frozenset({'Letter', 'Source', 'ProsNode'}) properties={'uid': '0a58c2d180a14e639fa5b4eb497d713f', 'real_type': 'letter', 'label': 'Bullshit Letter'}>, <Node id=0 labels=frozenset({'Entity', 'Person', 'ProsNode'}) properties={'uid': 'c4503b42a23d47b49a36a09f27e3749b', 'real_type': 'person', 'label': 'Arnold Lane  '}>) type='HAS_SENDER' properties={}>,\n",
       "  <Node id=78 labels=frozenset({'Letter', 'Source', 'ProsNode'}) properties={'uid': '0a58c2d180a14e639fa5b4eb497d713f', 'real_type': 'letter', 'label': 'Bullshit Letter'}>],\n",
       " [<Node id=0 labels=frozenset({'Entity', 'Person', 'ProsNode'}) properties={'uid': 'c4503b42a23d47b49a36a09f27e3749b', 'real_type': 'person', 'label': 'Arnold Lane  '}>,\n",
       "  <Relationship id=69 nodes=(<Node id=72 labels=frozenset({'Factoid', 'Event', 'ProsNode'}) properties={'uid': '33a5f5d100794d97a0b1655e619549bb', 'real_type': 'event', 'label': 'Clapathon'}>, <Node id=0 labels=frozenset({'Entity', 'Person', 'ProsNode'}) properties={'uid': 'c4503b42a23d47b49a36a09f27e3749b', 'real_type': 'person', 'label': 'Arnold Lane  '}>) type='IS_ABOUT_PERSON' properties={}>,\n",
       "  <Node id=72 labels=frozenset({'Factoid', 'Event', 'ProsNode'}) properties={'uid': '33a5f5d100794d97a0b1655e619549bb', 'real_type': 'event', 'label': 'Clapathon'}>],\n",
       " [<Node id=0 labels=frozenset({'Entity', 'Person', 'ProsNode'}) properties={'uid': 'c4503b42a23d47b49a36a09f27e3749b', 'real_type': 'person', 'label': 'Arnold Lane  '}>,\n",
       "  <Relationship id=42 nodes=(<Node id=36 labels=frozenset({'Factoid', 'Dance', 'Event', 'ProsNode'}) properties={'uid': 'a80f38336b264f238c980885a8ea19f6', 'real_type': 'dance', 'text': 'Has a mighty whirl', 'label': 'A Mighty Whirl'}>, <Node id=0 labels=frozenset({'Entity', 'Person', 'ProsNode'}) properties={'uid': 'c4503b42a23d47b49a36a09f27e3749b', 'real_type': 'person', 'label': 'Arnold Lane  '}>) type='IS_ABOUT_PERSON' properties={}>,\n",
       "  <Node id=36 labels=frozenset({'Factoid', 'Dance', 'Event', 'ProsNode'}) properties={'uid': 'a80f38336b264f238c980885a8ea19f6', 'real_type': 'dance', 'text': 'Has a mighty whirl', 'label': 'A Mighty Whirl'}>],\n",
       " [<Node id=0 labels=frozenset({'Entity', 'Person', 'ProsNode'}) properties={'uid': 'c4503b42a23d47b49a36a09f27e3749b', 'real_type': 'person', 'label': 'Arnold Lane  '}>,\n",
       "  <Relationship id=34 nodes=(<Node id=31 labels=frozenset({'Factoid', 'Dance', 'Event', 'ProsNode'}) properties={'uid': '666f7cfd1d9c4947adf93587c4c2d4bf', 'real_type': 'dance', 'label': 'Shindig', 'text': 'At the right shindig, attended by Alec Douglas Home, he danced with arnold lane '}>, <Node id=0 labels=frozenset({'Entity', 'Person', 'ProsNode'}) properties={'uid': 'c4503b42a23d47b49a36a09f27e3749b', 'real_type': 'person', 'label': 'Arnold Lane  '}>) type='HAS_PRIMARY_DANCE_PARTNER' properties={}>,\n",
       "  <Node id=31 labels=frozenset({'Factoid', 'Dance', 'Event', 'ProsNode'}) properties={'uid': '666f7cfd1d9c4947adf93587c4c2d4bf', 'real_type': 'dance', 'label': 'Shindig', 'text': 'At the right shindig, attended by Alec Douglas Home, he danced with arnold lane '}>],\n",
       " [<Node id=0 labels=frozenset({'Entity', 'Person', 'ProsNode'}) properties={'uid': 'c4503b42a23d47b49a36a09f27e3749b', 'real_type': 'person', 'label': 'Arnold Lane  '}>,\n",
       "  <Relationship id=16 nodes=(<Node id=22 labels=frozenset({'InterpersonalRelation', 'Factoid', 'ParentalRelation', 'ProsNode'}) properties={'uid': 'dbc7d1bc649a4d749056cb46567ba952', 'real_type': 'parentalrelation', 'label': 'mother'}>, <Node id=0 labels=frozenset({'Entity', 'Person', 'ProsNode'}) properties={'uid': 'c4503b42a23d47b49a36a09f27e3749b', 'real_type': 'person', 'label': 'Arnold Lane  '}>) type='IS_ABOUT_PERSON' properties={}>,\n",
       "  <Node id=22 labels=frozenset({'InterpersonalRelation', 'Factoid', 'ParentalRelation', 'ProsNode'}) properties={'uid': 'dbc7d1bc649a4d749056cb46567ba952', 'real_type': 'parentalrelation', 'label': 'mother'}>]]"
      ]
     },
     "execution_count": 10,
     "metadata": {},
     "output_type": "execute_result"
    }
   ],
   "source": [
    "results, meta = db.cypher_query(str(q), q.bound_params)\n",
    "results"
   ]
  },
  {
   "cell_type": "code",
   "execution_count": 23,
   "id": "9cd792b6",
   "metadata": {},
   "outputs": [
    {
     "name": "stdout",
     "output_type": "stream",
     "text": [
      "==============================================\n",
      "Arnold Lane   --> <Node id=78 labels=frozenset({'Letter', 'Source', 'ProsNode'}) properties={'uid': '0a58c2d180a14e639fa5b4eb497d713f', 'real_type': 'letter', 'label': 'Bullshit Letter'}> --> Bullshit Letter\n",
      "---\n",
      "==============================================\n",
      "Arnold Lane   --> <Node id=72 labels=frozenset({'Factoid', 'Event', 'ProsNode'}) properties={'uid': '33a5f5d100794d97a0b1655e619549bb', 'real_type': 'event', 'label': 'Clapathon'}> --> Clapathon\n",
      "---\n",
      "==============================================\n",
      "Arnold Lane   --> <Node id=36 labels=frozenset({'Factoid', 'Dance', 'Event', 'ProsNode'}) properties={'uid': 'a80f38336b264f238c980885a8ea19f6', 'real_type': 'dance', 'text': 'Has a mighty whirl', 'label': 'A Mighty Whirl'}> --> A Mighty Whirl\n",
      "---\n",
      "==============================================\n",
      "Arnold Lane   --> <Node id=31 labels=frozenset({'Factoid', 'Dance', 'Event', 'ProsNode'}) properties={'uid': '666f7cfd1d9c4947adf93587c4c2d4bf', 'real_type': 'dance', 'label': 'Shindig', 'text': 'At the right shindig, attended by Alec Douglas Home, he danced with arnold lane '}> --> Shindig\n",
      "---\n",
      "==============================================\n",
      "Arnold Lane   --> <Node id=22 labels=frozenset({'InterpersonalRelation', 'Factoid', 'ParentalRelation', 'ProsNode'}) properties={'uid': 'dbc7d1bc649a4d749056cb46567ba952', 'real_type': 'parentalrelation', 'label': 'mother'}> --> mother\n",
      "---\n"
     ]
    }
   ],
   "source": [
    "from test_app.models import Entity\n",
    "\n",
    "\n",
    "for res in results:\n",
    "    print(\"==============================================\")\n",
    "    s, p, o = res\n",
    "\n",
    "    print(s.get(\"label\"), '-->', p.type, '-->', o.get(\"label\"))\n",
    "    print('---')\n",
    "    "
   ]
  },
  {
   "cell_type": "code",
   "execution_count": 54,
   "id": "12024b9d",
   "metadata": {},
   "outputs": [
    {
     "data": {
      "text/plain": [
       "{'uid': 'c4503b42a23d47b49a36a09f27e3749b',\n",
       " 'real_type': 'person',\n",
       " 'label': 'Arnold Lane  '}"
      ]
     },
     "execution_count": 54,
     "metadata": {},
     "output_type": "execute_result"
    }
   ],
   "source": [
    "dict(s.items())\n"
   ]
  },
  {
   "cell_type": "code",
   "execution_count": 58,
   "id": "1dc40fba",
   "metadata": {},
   "outputs": [
    {
     "data": {
      "text/plain": [
       "'HAS_SENDER'"
      ]
     },
     "execution_count": 58,
     "metadata": {},
     "output_type": "execute_result"
    }
   ],
   "source": [
    "p.type"
   ]
  },
  {
   "cell_type": "code",
   "execution_count": 1,
   "id": "a3e54ae1",
   "metadata": {},
   "outputs": [],
   "source": [
    "class A:\n",
    "    @classmethod\n",
    "    def do_thing(cls):\n",
    "        return 1\n",
    "        "
   ]
  },
  {
   "cell_type": "code",
   "execution_count": 5,
   "id": "9753683d",
   "metadata": {},
   "outputs": [],
   "source": [
    "class S:\n",
    "    def __init_subclass__(cls) -> None:\n",
    "        cls.a()"
   ]
  },
  {
   "cell_type": "code",
   "execution_count": 7,
   "id": "1332efcf",
   "metadata": {},
   "outputs": [
    {
     "name": "stdout",
     "output_type": "stream",
     "text": [
      "from S <class '__main__.A'>\n"
     ]
    }
   ],
   "source": [
    "class B(S):\n",
    "    a = A"
   ]
  }
 ],
 "metadata": {
  "kernelspec": {
   "display_name": "Python 3.10.8 ('pros-b7mgtoRn-py3.10')",
   "language": "python",
   "name": "python3"
  },
  "language_info": {
   "codemirror_mode": {
    "name": "ipython",
    "version": 3
   },
   "file_extension": ".py",
   "mimetype": "text/x-python",
   "name": "python",
   "nbconvert_exporter": "python",
   "pygments_lexer": "ipython3",
   "version": "3.10.8"
  },
  "vscode": {
   "interpreter": {
    "hash": "29c8f7608a3b02fe5bcbb4830ba6fe8c97c143b16138ad623e739ca2da3e4b2d"
   }
  }
 },
 "nbformat": 4,
 "nbformat_minor": 5
}
