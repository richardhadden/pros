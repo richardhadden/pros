{
 "cells": [
  {
   "cell_type": "code",
   "execution_count": 1,
   "metadata": {},
   "outputs": [],
   "source": [
    "import pros.django_initializer"
   ]
  },
  {
   "cell_type": "code",
   "execution_count": 3,
   "metadata": {},
   "outputs": [],
   "source": []
  },
  {
   "cell_type": "code",
   "execution_count": 3,
   "metadata": {},
   "outputs": [],
   "source": [
    "BOOK = \"62562714da0543598727096803dbf639\"\n",
    "BIRTH = \"d2e533b53d47429289430209f4ca5d53\"\n",
    "TEST = \"2571c67712c64481b8e861c5c833491a\""
   ]
  },
  {
   "cell_type": "code",
   "execution_count": null,
   "metadata": {},
   "outputs": [],
   "source": [
    "\"\"\"MATCH (n {uid:\"62562714da0543598727096803dbf639\"})-[p]-(o)\n",
    "OPTIONAL MATCH  (o)-[p2]-(o2)\n",
    "WHERE p.inline = true or p2.inline = true\n",
    "RETURN n, p, o, p2, o2\"\"\""
   ]
  },
  {
   "cell_type": "code",
   "execution_count": null,
   "metadata": {},
   "outputs": [],
   "source": [
    " q.MATCH.node(\"s\", uid=self.uid).rel(\"p\").node(\"o\")\n",
    "        q.OPTIONAL.MATCH(\"x = \").node(\"o\").rel_out(\"p2\").node(\"o2\")\n",
    "        q.WHERE.p.property(\"inline\").operator(\"=\", True)\n",
    "        q.OR.p2.property(\"inline\").operator(\"=\", True)\n",
    "        q.RETURN(__.s, __.p, __.o, __.p2, __.o2, __.COLLECT(__.x))"
   ]
  },
  {
   "cell_type": "code",
   "execution_count": 6,
   "metadata": {},
   "outputs": [
    {
     "data": {
      "text/plain": [
       "<pypher.builder.Pypher at 0x110869bd0>"
      ]
     },
     "execution_count": 6,
     "metadata": {},
     "output_type": "execute_result"
    }
   ],
   "source": [
    "from pypher import Pypher, __\n",
    "\n",
    "q = Pypher()\n",
    "q.MATCH.node(\"s\", uid=TEST).rel(\"p\").node(\"o\")\n",
    "q.OPTIONAL.MATCH.node(\"o\").rel(\"p2\").node(\"o2\")\n",
    "q.WHERE.p.property(\"inline\") == True\n",
    "q.OR.p2.property(\"inline\") == True\n",
    "q.RETURN(__.s, __.p, __.o, __.p2,__.o2)"
   ]
  },
  {
   "cell_type": "code",
   "execution_count": 7,
   "metadata": {},
   "outputs": [],
   "source": [
    "from neomodel import db"
   ]
  },
  {
   "cell_type": "code",
   "execution_count": 8,
   "metadata": {},
   "outputs": [
    {
     "ename": "CypherSyntaxError",
     "evalue": "{code: Neo.ClientError.Statement.SyntaxError} {message: Invalid input '_ipython_canary_method_should_not_exist_': expected\n  \"!=\"\n  \"%\"\n  \"*\"\n  \"+\"\n  \",\"\n  \"-\"\n  \".\"\n  \"/\"\n  \":\"\n  \"<\"\n  \"<=\"\n  \"<>\"\n  \"=\"\n  \"=~\"\n  \">\"\n  \">=\"\n  \"AND\"\n  \"AS\"\n  \"CALL\"\n  \"CONTAINS\"\n  \"CREATE\"\n  \"DELETE\"\n  \"DETACH\"\n  \"ENDS\"\n  \"FOREACH\"\n  \"IN\"\n  \"IS\"\n  \"LIMIT\"\n  \"LOAD\"\n  \"MATCH\"\n  \"MERGE\"\n  \"OPTIONAL\"\n  \"OR\"\n  \"ORDER\"\n  \"REMOVE\"\n  \"RETURN\"\n  \"SET\"\n  \"SKIP\"\n  \"STARTS\"\n  \"UNION\"\n  \"UNWIND\"\n  \"USE\"\n  \"WITH\"\n  \"XOR\"\n  \"[\"\n  \"^\"\n  <EOF> (line 1, column 138 (offset: 137))\n\"MATCH (s {`uid`: $uid52569_0})-[p]-(o) OPTIONAL MATCH (o)-[p2]-(o2) WHERE p.`inline` = true OR p2.`inline` = true RETURN s, p, o, p2, o2 _ipython_canary_method_should_not_exist_ _ipython_canary_method_should_not_exist_ _ipython_canary_method_should_not_exist_ _ipython_canary_method_should_not_exist_ _ipython_canary_method_should_not_exist_ _ipython_canary_method_should_not_exist_ _ipython_canary_method_should_not_exist_ _ipython_canary_method_should_not_exist_ _ipython_canary_method_should_not_exist_ _ipython_canary_method_should_not_exist_ _ipython_canary_method_should_not_exist_\"\n                                                                                                                                          ^}",
     "output_type": "error",
     "traceback": [
      "\u001b[0;31m---------------------------------------------------------------------------\u001b[0m",
      "\u001b[0;31mCypherSyntaxError\u001b[0m                         Traceback (most recent call last)",
      "\u001b[1;32m/Users/richardhadden/Development/pros/all_data.ipynb Cell 8\u001b[0m in \u001b[0;36m<cell line: 1>\u001b[0;34m()\u001b[0m\n\u001b[0;32m----> <a href='vscode-notebook-cell:/Users/richardhadden/Development/pros/all_data.ipynb#X11sZmlsZQ%3D%3D?line=0'>1</a>\u001b[0m db_results, meta \u001b[39m=\u001b[39m db\u001b[39m.\u001b[39;49mcypher_query(\u001b[39mstr\u001b[39;49m(q), q\u001b[39m.\u001b[39;49mbound_params)\n",
      "File \u001b[0;32m~/Development/pros/neomodel/util.py:35\u001b[0m, in \u001b[0;36mensure_connection.<locals>.wrapper\u001b[0;34m(self, *args, **kwargs)\u001b[0m\n\u001b[1;32m     33\u001b[0m \u001b[39mif\u001b[39;00m \u001b[39mnot\u001b[39;00m _db\u001b[39m.\u001b[39murl:\n\u001b[1;32m     34\u001b[0m     _db\u001b[39m.\u001b[39mset_connection(config\u001b[39m.\u001b[39mDATABASE_URL)\n\u001b[0;32m---> 35\u001b[0m \u001b[39mreturn\u001b[39;00m func(\u001b[39mself\u001b[39;49m, \u001b[39m*\u001b[39;49margs, \u001b[39m*\u001b[39;49m\u001b[39m*\u001b[39;49mkwargs)\n",
      "File \u001b[0;32m~/Development/pros/neomodel/util.py:285\u001b[0m, in \u001b[0;36mDatabase.cypher_query\u001b[0;34m(self, query, params, handle_unique, retry_on_session_expire, resolve_objects)\u001b[0m\n\u001b[1;32m    283\u001b[0m exc_info \u001b[39m=\u001b[39m sys\u001b[39m.\u001b[39mexc_info()\n\u001b[1;32m    284\u001b[0m \u001b[39mif\u001b[39;00m sys\u001b[39m.\u001b[39mversion_info \u001b[39m>\u001b[39m\u001b[39m=\u001b[39m (\u001b[39m3\u001b[39m, \u001b[39m0\u001b[39m):\n\u001b[0;32m--> 285\u001b[0m     \u001b[39mraise\u001b[39;00m exc_info[\u001b[39m1\u001b[39m]\u001b[39m.\u001b[39mwith_traceback(exc_info[\u001b[39m2\u001b[39m])\n\u001b[1;32m    286\u001b[0m \u001b[39melse\u001b[39;00m:\n\u001b[1;32m    287\u001b[0m     \u001b[39mraise\u001b[39;00m exc_info[\u001b[39m1\u001b[39m]\n",
      "File \u001b[0;32m~/Development/pros/neomodel/util.py:268\u001b[0m, in \u001b[0;36mDatabase.cypher_query\u001b[0;34m(self, query, params, handle_unique, retry_on_session_expire, resolve_objects)\u001b[0m\n\u001b[1;32m    265\u001b[0m \u001b[39mtry\u001b[39;00m:\n\u001b[1;32m    266\u001b[0m     \u001b[39m# Retrieve the data\u001b[39;00m\n\u001b[1;32m    267\u001b[0m     start \u001b[39m=\u001b[39m time\u001b[39m.\u001b[39mtime()\n\u001b[0;32m--> 268\u001b[0m     response \u001b[39m=\u001b[39m session\u001b[39m.\u001b[39;49mrun(query, params)\n\u001b[1;32m    269\u001b[0m     results, meta \u001b[39m=\u001b[39m [\u001b[39mlist\u001b[39m(r\u001b[39m.\u001b[39mvalues()) \u001b[39mfor\u001b[39;00m r \u001b[39min\u001b[39;00m response], response\u001b[39m.\u001b[39mkeys()\n\u001b[1;32m    270\u001b[0m     end \u001b[39m=\u001b[39m time\u001b[39m.\u001b[39mtime()\n",
      "File \u001b[0;32m~/Library/Caches/pypoetry/virtualenvs/pros-b7mgtoRn-py3.10/lib/python3.10/site-packages/neo4j/work/simple.py:232\u001b[0m, in \u001b[0;36mSession.run\u001b[0;34m(self, query, parameters, **kwparameters)\u001b[0m\n\u001b[1;32m    226\u001b[0m hydrant \u001b[39m=\u001b[39m DataHydrator()\n\u001b[1;32m    228\u001b[0m \u001b[39mself\u001b[39m\u001b[39m.\u001b[39m_autoResult \u001b[39m=\u001b[39m Result(\n\u001b[1;32m    229\u001b[0m     cx, hydrant, \u001b[39mself\u001b[39m\u001b[39m.\u001b[39m_config\u001b[39m.\u001b[39mfetch_size, \u001b[39mself\u001b[39m\u001b[39m.\u001b[39m_result_closed,\n\u001b[1;32m    230\u001b[0m     \u001b[39mself\u001b[39m\u001b[39m.\u001b[39m_result_network_error\n\u001b[1;32m    231\u001b[0m )\n\u001b[0;32m--> 232\u001b[0m \u001b[39mself\u001b[39;49m\u001b[39m.\u001b[39;49m_autoResult\u001b[39m.\u001b[39;49m_run(\n\u001b[1;32m    233\u001b[0m     query, parameters, \u001b[39mself\u001b[39;49m\u001b[39m.\u001b[39;49m_config\u001b[39m.\u001b[39;49mdatabase,\n\u001b[1;32m    234\u001b[0m     \u001b[39mself\u001b[39;49m\u001b[39m.\u001b[39;49m_config\u001b[39m.\u001b[39;49mdefault_access_mode, \u001b[39mself\u001b[39;49m\u001b[39m.\u001b[39;49m_bookmarks, \u001b[39m*\u001b[39;49m\u001b[39m*\u001b[39;49mkwparameters\n\u001b[1;32m    235\u001b[0m )\n\u001b[1;32m    237\u001b[0m \u001b[39mreturn\u001b[39;00m \u001b[39mself\u001b[39m\u001b[39m.\u001b[39m_autoResult\n",
      "File \u001b[0;32m~/Library/Caches/pypoetry/virtualenvs/pros-b7mgtoRn-py3.10/lib/python3.10/site-packages/neo4j/work/result.py:143\u001b[0m, in \u001b[0;36mResult._run\u001b[0;34m(self, query, parameters, db, access_mode, bookmarks, **kwparameters)\u001b[0m\n\u001b[1;32m    141\u001b[0m \u001b[39mself\u001b[39m\u001b[39m.\u001b[39m_pull()\n\u001b[1;32m    142\u001b[0m \u001b[39mself\u001b[39m\u001b[39m.\u001b[39m_connection\u001b[39m.\u001b[39msend_all()\n\u001b[0;32m--> 143\u001b[0m \u001b[39mself\u001b[39;49m\u001b[39m.\u001b[39;49m_attach()\n",
      "File \u001b[0;32m~/Library/Caches/pypoetry/virtualenvs/pros-b7mgtoRn-py3.10/lib/python3.10/site-packages/neo4j/work/result.py:232\u001b[0m, in \u001b[0;36mResult._attach\u001b[0;34m(self)\u001b[0m\n\u001b[1;32m    230\u001b[0m \u001b[39mif\u001b[39;00m \u001b[39mself\u001b[39m\u001b[39m.\u001b[39m_closed \u001b[39mis\u001b[39;00m \u001b[39mFalse\u001b[39;00m:\n\u001b[1;32m    231\u001b[0m     \u001b[39mwhile\u001b[39;00m \u001b[39mself\u001b[39m\u001b[39m.\u001b[39m_attached \u001b[39mis\u001b[39;00m \u001b[39mFalse\u001b[39;00m:\n\u001b[0;32m--> 232\u001b[0m         \u001b[39mself\u001b[39;49m\u001b[39m.\u001b[39;49m_connection\u001b[39m.\u001b[39;49mfetch_message()\n",
      "File \u001b[0;32m~/Library/Caches/pypoetry/virtualenvs/pros-b7mgtoRn-py3.10/lib/python3.10/site-packages/neo4j/work/result.py:63\u001b[0m, in \u001b[0;36m_ConnectionErrorHandler.__getattr__.<locals>.outer.<locals>.inner\u001b[0;34m(*args, **kwargs)\u001b[0m\n\u001b[1;32m     61\u001b[0m \u001b[39mdef\u001b[39;00m \u001b[39minner\u001b[39m(\u001b[39m*\u001b[39margs, \u001b[39m*\u001b[39m\u001b[39m*\u001b[39mkwargs):\n\u001b[1;32m     62\u001b[0m     \u001b[39mtry\u001b[39;00m:\n\u001b[0;32m---> 63\u001b[0m         func(\u001b[39m*\u001b[39;49margs, \u001b[39m*\u001b[39;49m\u001b[39m*\u001b[39;49mkwargs)\n\u001b[1;32m     64\u001b[0m     \u001b[39mfinally\u001b[39;00m:\n\u001b[1;32m     65\u001b[0m         \u001b[39mif\u001b[39;00m \u001b[39mself\u001b[39m\u001b[39m.\u001b[39m_connection\u001b[39m.\u001b[39mdefunct():\n",
      "File \u001b[0;32m~/Library/Caches/pypoetry/virtualenvs/pros-b7mgtoRn-py3.10/lib/python3.10/site-packages/neo4j/io/_bolt4.py:271\u001b[0m, in \u001b[0;36mBolt4x0.fetch_message\u001b[0;34m(self)\u001b[0m\n\u001b[1;32m    269\u001b[0m log\u001b[39m.\u001b[39mdebug(\u001b[39m\"\u001b[39m\u001b[39m[#\u001b[39m\u001b[39m%04X\u001b[39;00m\u001b[39m]  S: FAILURE \u001b[39m\u001b[39m%r\u001b[39;00m\u001b[39m\"\u001b[39m, \u001b[39mself\u001b[39m\u001b[39m.\u001b[39mlocal_port, summary_metadata)\n\u001b[1;32m    270\u001b[0m \u001b[39mtry\u001b[39;00m:\n\u001b[0;32m--> 271\u001b[0m     response\u001b[39m.\u001b[39;49mon_failure(summary_metadata \u001b[39mor\u001b[39;49;00m {})\n\u001b[1;32m    272\u001b[0m \u001b[39mexcept\u001b[39;00m (ServiceUnavailable, DatabaseUnavailable):\n\u001b[1;32m    273\u001b[0m     \u001b[39mif\u001b[39;00m \u001b[39mself\u001b[39m\u001b[39m.\u001b[39mpool:\n",
      "File \u001b[0;32m~/Library/Caches/pypoetry/virtualenvs/pros-b7mgtoRn-py3.10/lib/python3.10/site-packages/neo4j/io/_common.py:184\u001b[0m, in \u001b[0;36mResponse.on_failure\u001b[0;34m(self, metadata)\u001b[0m\n\u001b[1;32m    182\u001b[0m \u001b[39mif\u001b[39;00m callable(handler):\n\u001b[1;32m    183\u001b[0m     handler()\n\u001b[0;32m--> 184\u001b[0m \u001b[39mraise\u001b[39;00m Neo4jError\u001b[39m.\u001b[39mhydrate(\u001b[39m*\u001b[39m\u001b[39m*\u001b[39mmetadata)\n",
      "\u001b[0;31mCypherSyntaxError\u001b[0m: {code: Neo.ClientError.Statement.SyntaxError} {message: Invalid input '_ipython_canary_method_should_not_exist_': expected\n  \"!=\"\n  \"%\"\n  \"*\"\n  \"+\"\n  \",\"\n  \"-\"\n  \".\"\n  \"/\"\n  \":\"\n  \"<\"\n  \"<=\"\n  \"<>\"\n  \"=\"\n  \"=~\"\n  \">\"\n  \">=\"\n  \"AND\"\n  \"AS\"\n  \"CALL\"\n  \"CONTAINS\"\n  \"CREATE\"\n  \"DELETE\"\n  \"DETACH\"\n  \"ENDS\"\n  \"FOREACH\"\n  \"IN\"\n  \"IS\"\n  \"LIMIT\"\n  \"LOAD\"\n  \"MATCH\"\n  \"MERGE\"\n  \"OPTIONAL\"\n  \"OR\"\n  \"ORDER\"\n  \"REMOVE\"\n  \"RETURN\"\n  \"SET\"\n  \"SKIP\"\n  \"STARTS\"\n  \"UNION\"\n  \"UNWIND\"\n  \"USE\"\n  \"WITH\"\n  \"XOR\"\n  \"[\"\n  \"^\"\n  <EOF> (line 1, column 138 (offset: 137))\n\"MATCH (s {`uid`: $uid52569_0})-[p]-(o) OPTIONAL MATCH (o)-[p2]-(o2) WHERE p.`inline` = true OR p2.`inline` = true RETURN s, p, o, p2, o2 _ipython_canary_method_should_not_exist_ _ipython_canary_method_should_not_exist_ _ipython_canary_method_should_not_exist_ _ipython_canary_method_should_not_exist_ _ipython_canary_method_should_not_exist_ _ipython_canary_method_should_not_exist_ _ipython_canary_method_should_not_exist_ _ipython_canary_method_should_not_exist_ _ipython_canary_method_should_not_exist_ _ipython_canary_method_should_not_exist_ _ipython_canary_method_should_not_exist_\"\n                                                                                                                                          ^}"
     ]
    }
   ],
   "source": [
    "db_results, meta = db.cypher_query(str(q), q.bound_params)"
   ]
  }
 ],
 "metadata": {
  "kernelspec": {
   "display_name": "Python 3.10.8 ('pros-b7mgtoRn-py3.10')",
   "language": "python",
   "name": "python3"
  },
  "language_info": {
   "codemirror_mode": {
    "name": "ipython",
    "version": 3
   },
   "file_extension": ".py",
   "mimetype": "text/x-python",
   "name": "python",
   "nbconvert_exporter": "python",
   "pygments_lexer": "ipython3",
   "version": "3.10.8"
  },
  "orig_nbformat": 4,
  "vscode": {
   "interpreter": {
    "hash": "29c8f7608a3b02fe5bcbb4830ba6fe8c97c143b16138ad623e739ca2da3e4b2d"
   }
  }
 },
 "nbformat": 4,
 "nbformat_minor": 2
}
