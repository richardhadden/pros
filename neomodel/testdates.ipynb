{
 "cells": [
  {
   "cell_type": "code",
   "execution_count": 1,
   "metadata": {},
   "outputs": [],
   "source": [
    "import pros.django_initializer"
   ]
  },
  {
   "cell_type": "code",
   "execution_count": 13,
   "metadata": {},
   "outputs": [],
   "source": [
    "from neomodel.properties import Property, validator \n",
    "import neo4j.time"
   ]
  },
  {
   "cell_type": "code",
   "execution_count": null,
   "metadata": {},
   "outputs": [],
   "source": [
    "class DateProperty(Property):\n",
    "    \"\"\"\n",
    "    Stores a date\n",
    "    \"\"\"\n",
    "    form_field_class = 'DateField'\n",
    "\n",
    "    @validator\n",
    "    def inflate(self, value):\n",
    "        if isinstance(value, neo4j.time.DateTime):\n",
    "            value = date(value.year, value.month, value.day)\n",
    "        elif isinstance(value, str):\n",
    "            if \"T\" in value:\n",
    "                value = value[:value.find('T')]\n",
    "        return datetime.strptime(unicode(value), \"%Y-%m-%d\").date()\n",
    "\n",
    "    @validator\n",
    "    def deflate(self, value):\n",
    "        if not isinstance(value, date):\n",
    "            msg = 'datetime.date object expected, got {0}'.format(repr(value))\n",
    "            raise ValueError(msg)\n",
    "        return value.isoformat()"
   ]
  },
  {
   "cell_type": "code",
   "execution_count": 7,
   "metadata": {},
   "outputs": [],
   "source": [
    "from numpy import datetime64"
   ]
  },
  {
   "cell_type": "code",
   "execution_count": 21,
   "metadata": {},
   "outputs": [
    {
     "data": {
      "text/plain": [
       "-1450741"
      ]
     },
     "execution_count": 21,
     "metadata": {},
     "output_type": "execute_result"
    }
   ],
   "source": [
    "d = datetime64(\"-2002-01-03\")\n",
    "\n",
    "d.s"
   ]
  },
  {
   "cell_type": "code",
   "execution_count": 15,
   "metadata": {},
   "outputs": [],
   "source": [
    "x = d.astype(neo4j.time.date)"
   ]
  },
  {
   "cell_type": "code",
   "execution_count": 19,
   "metadata": {},
   "outputs": [
    {
     "data": {
      "text/plain": [
       "-1450741"
      ]
     },
     "execution_count": 19,
     "metadata": {},
     "output_type": "execute_result"
    }
   ],
   "source": [
    "import pandas as pd\n",
    "\n"
   ]
  }
 ],
 "metadata": {
  "kernelspec": {
   "display_name": "Python 3.10.8 ('pros-b7mgtoRn-py3.10')",
   "language": "python",
   "name": "python3"
  },
  "language_info": {
   "codemirror_mode": {
    "name": "ipython",
    "version": 3
   },
   "file_extension": ".py",
   "mimetype": "text/x-python",
   "name": "python",
   "nbconvert_exporter": "python",
   "pygments_lexer": "ipython3",
   "version": "3.10.8"
  },
  "orig_nbformat": 4,
  "vscode": {
   "interpreter": {
    "hash": "29c8f7608a3b02fe5bcbb4830ba6fe8c97c143b16138ad623e739ca2da3e4b2d"
   }
  }
 },
 "nbformat": 4,
 "nbformat_minor": 2
}
